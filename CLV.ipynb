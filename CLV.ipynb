{
 "cells": [
  {
   "cell_type": "code",
   "execution_count": null,
   "id": "3d477833-58a3-4a4a-82f9-d34a4204fa87",
   "metadata": {},
   "outputs": [],
   "source": [
    "import pandas as pd\n",
    "\n",
    "\n",
    "file_path = 'HITRUST+Hair.csv'\n",
    "sales_data = pd.read_csv(file_path)\n",
    "\n",
    "\n",
    "sales_data.head(), sales_data.info(), sales_data.describe(include='all')"
   ]
  },
  {
   "cell_type": "code",
   "execution_count": null,
   "id": "7503493a-6b5c-422a-b482-26afec0bce2c",
   "metadata": {},
   "outputs": [],
   "source": [
    "\n",
    "sales_data['Sales Price'] = pd.to_numeric(sales_data['Sales Price'].str.strip(), errors='coerce')\n",
    "sales_data['Amount'] = pd.to_numeric(sales_data['Amount'].str.strip(), errors='coerce')\n",
    "\n",
    "sales_data['Product/Service'] = sales_data['Product/Service'].replace(r'^VIP:', '', regex=True).str.strip()\n",
    "\n",
    "sales_data.head(), sales_data.dtypes"
   ]
  },
  {
   "cell_type": "code",
   "execution_count": null,
   "id": "990330a0-3676-40ee-9c11-aca0cf76e792",
   "metadata": {},
   "outputs": [],
   "source": [
    "\n",
    "sales_data['Has_Shipping'] = sales_data['Memo/Description'].str.contains('Shipping', na=False).astype(int)\n",
    "\n",
    "rows_before = sales_data.shape[0]\n",
    "sales_data = sales_data.dropna(subset=['Product/Service'], how='all')\n",
    "rows_after = sales_data.shape[0]\n",
    "\n",
    "rows_dropped = rows_before - rows_after\n",
    "sales_data.head(), rows_dropped"
   ]
  },
  {
   "cell_type": "code",
   "execution_count": null,
   "id": "6f8d6906-6d1a-47f4-bc6c-34811ef462fa",
   "metadata": {},
   "outputs": [],
   "source": [
    "\n",
    "sales_data['Date'] = pd.to_datetime(sales_data['Date'])\n",
    "\n",
    "latest_date = sales_data['Date'].max()\n",
    "\n",
    "# customer metrics\n",
    "customer_metrics = sales_data.groupby('Customer').agg(\n",
    "    Total_Spending=pd.NamedAgg(column='Amount', aggfunc='sum'),\n",
    "    Purchase_Frequency=pd.NamedAgg(column='Date', aggfunc='count'),\n",
    "    Average_Purchase_Value=pd.NamedAgg(column='Amount', aggfunc=lambda x: x.mean()),\n",
    "    Most_Recent_Purchase=pd.NamedAgg(column='Date', aggfunc='max')\n",
    ")\n",
    "\n",
    "\n",
    "customer_metrics['Recency'] = (latest_date - customer_metrics['Most_Recent_Purchase']).dt.days\n",
    "\n",
    "customer_metrics.head()"
   ]
  },
  {
   "cell_type": "code",
   "execution_count": null,
   "id": "ad46d98a-b25c-42e9-8404-4f329481dbc9",
   "metadata": {},
   "outputs": [],
   "source": [
    "from sklearn.preprocessing import StandardScaler\n",
    "from sklearn.cluster import KMeans\n",
    "import matplotlib.pyplot as plt\n",
    "\n",
    "\n",
    "scaler = StandardScaler()\n",
    "scaled_features = scaler.fit_transform(customer_metrics[['Total_Spending', 'Purchase_Frequency', 'Average_Purchase_Value', 'Recency']])\n",
    "\n",
    "# Elbow Method\n",
    "inertia = []\n",
    "for k in range(1, 11):\n",
    "    kmeans = KMeans(n_clusters=k, random_state=0)\n",
    "    kmeans.fit(scaled_features)\n",
    "    inertia.append(kmeans.inertia_)\n",
    "\n",
    "\n",
    "plt.figure(figsize=(10, 6))\n",
    "plt.plot(range(1, 11), inertia, marker='o')\n",
    "plt.title('Elbow Method For Optimal k')\n",
    "plt.xlabel('Number of Clusters')\n",
    "plt.ylabel('Inertia')\n",
    "plt.grid(True)\n",
    "plt.show()"
   ]
  },
  {
   "cell_type": "code",
   "execution_count": null,
   "id": "722efb4d-3500-486d-8618-1f620863bbc2",
   "metadata": {},
   "outputs": [],
   "source": [
    "# K-means\n",
    "kmeans_final = KMeans(n_clusters=3, random_state=0)\n",
    "customer_metrics['Cluster'] = kmeans_final.fit_predict(scaled_features)\n",
    "\n",
    "\n",
    "cluster_summary = customer_metrics.groupby('Cluster').mean()\n",
    "cluster_summary['Count'] = customer_metrics['Cluster'].value_counts()\n",
    "cluster_summary"
   ]
  },
  {
   "cell_type": "code",
   "execution_count": null,
   "id": "ce71a903-aef5-41e2-aa45-c0373aac318c",
   "metadata": {},
   "outputs": [],
   "source": [
    "from lifetimes.utils import summary_data_from_transaction_data\n",
    "from lifetimes import BetaGeoFitter, GammaGammaFitter\n",
    "\n",
    "\n",
    "summary = summary_data_from_transaction_data(data, 'Customer', 'Date', 'Amount', observation_period_end=data['Date'].max())"
   ]
  },
  {
   "cell_type": "code",
   "execution_count": null,
   "id": "48d8fb12-7e7c-46f1-93aa-82233717d830",
   "metadata": {},
   "outputs": [],
   "source": [
    "# BG/NBD model\n",
    "bgf = BetaGeoFitter(penalizer_coef=0.0)\n",
    "bgf.fit(summary['frequency'], summary['recency'], summary['T'])"
   ]
  },
  {
   "cell_type": "code",
   "execution_count": null,
   "id": "268552de-b0cb-4dd5-a1fe-9cc9e6204603",
   "metadata": {},
   "outputs": [],
   "source": [
    "# Gamma-Gamma model\n",
    "positive_monetary_data = summary[(summary['monetary_value'] > 0) & (summary['frequency'] > 0)]\n",
    "if not positive_monetary_data.empty:\n",
    "    ggf = GammaGammaFitter(penalizer_coef=0.01)\n",
    "    ggf.fit(positive_monetary_data['frequency'], positive_monetary_data['monetary_value'])\n",
    "\n",
    "    \n",
    "    t = 30  # for next 30 days\n",
    "    summary['predicted_purchases'] = bgf.predict(t, summary['frequency'], summary['recency'], summary['T'])\n",
    "\n",
    "    # Predict monetary values and calculate CLV\n",
    "    summary['predicted_monetary_value'] = ggf.conditional_expected_average_profit(\n",
    "        positive_monetary_data['frequency'], positive_monetary_data['monetary_value']\n",
    "    )\n",
    "    summary['CLV'] = summary['predicted_purchases'] * summary['predicted_monetary_value']\n",
    "\n",
    "# Save processed data to CSV for GitHub upload\n",
    "summary.to_csv('path_to_save_processed_data.csv')  # Change to your desired path\n",
    "\n",
    "# Output the first few rows to verify\n",
    "print(summary.head())"
   ]
  },
  {
   "cell_type": "code",
   "execution_count": null,
   "id": "68061144-6444-48ca-b517-38f79d1c453c",
   "metadata": {},
   "outputs": [],
   "source": []
  }
 ],
 "metadata": {
  "kernelspec": {
   "display_name": "Python 3 (ipykernel)",
   "language": "python",
   "name": "python3"
  },
  "language_info": {
   "codemirror_mode": {
    "name": "ipython",
    "version": 3
   },
   "file_extension": ".py",
   "mimetype": "text/x-python",
   "name": "python",
   "nbconvert_exporter": "python",
   "pygments_lexer": "ipython3",
   "version": "3.11.5"
  }
 },
 "nbformat": 4,
 "nbformat_minor": 5
}
